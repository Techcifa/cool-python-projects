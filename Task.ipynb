{
 "cells": [
  {
   "cell_type": "markdown",
   "id": "e2499557-a954-4d46-95b4-6d0ee5c1c166",
   "metadata": {},
   "source": [
    "#  Min to Max "
   ]
  },
  {
   "cell_type": "code",
   "execution_count": 21,
   "id": "72cb5517-32d7-47d3-ba6d-85719cc9b28a",
   "metadata": {},
   "outputs": [],
   "source": [
    "def sortFromMinToMax(numbers):\n",
    "    \"\"\"sorts random numbers from minimum to max\"\"\"\n",
    "    n = len(numbers)\n",
    "    for i in range(n):\n",
    "        for x in range(0, n-i-1):\n",
    "            if numbers[x] > numbers[x+1]:\n",
    "                numbers[x],numbers[x+1] = numbers[x+1],numbers[x]\n",
    "    return numbers"
   ]
  },
  {
   "cell_type": "code",
   "execution_count": 22,
   "id": "a41aaa68-7ced-4b07-bc6a-beed971669aa",
   "metadata": {},
   "outputs": [
    {
     "name": "stdin",
     "output_type": "stream",
     "text": [
      "Enter a series of numbers to sort them from min to max 9 00 800 67\n"
     ]
    },
    {
     "name": "stdout",
     "output_type": "stream",
     "text": [
      "[0, 9, 67, 800]\n"
     ]
    }
   ],
   "source": [
    "numbers = input('Enter a series of numbers to sort them from min to max')\n",
    "numbersToInt = [int(num) for num in numbers.split()]\n",
    "sortedNumbers =sortFromMinToMax(numbersToInt)\n",
    "print(sortedNumbers)"
   ]
  },
  {
   "cell_type": "code",
   "execution_count": null,
   "id": "5f4cb1a7-325b-463e-b919-0cc28f30beaf",
   "metadata": {},
   "outputs": [],
   "source": []
  },
  {
   "cell_type": "code",
   "execution_count": null,
   "id": "022198ef-e473-4a11-a61b-1bf2c73b1ae2",
   "metadata": {},
   "outputs": [],
   "source": []
  }
 ],
 "metadata": {
  "kernelspec": {
   "display_name": "Python 3 (ipykernel)",
   "language": "python",
   "name": "python3"
  },
  "language_info": {
   "codemirror_mode": {
    "name": "ipython",
    "version": 3
   },
   "file_extension": ".py",
   "mimetype": "text/x-python",
   "name": "python",
   "nbconvert_exporter": "python",
   "pygments_lexer": "ipython3",
   "version": "3.12.4"
  }
 },
 "nbformat": 4,
 "nbformat_minor": 5
}
